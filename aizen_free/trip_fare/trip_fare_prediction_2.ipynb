{
 "cells": [
  {
   "cell_type": "markdown",
   "id": "93f77938-7669-4c71-aabe-49ecd7316e2e",
   "metadata": {
    "tags": []
   },
   "source": [
    "***\n",
    "\n",
    "# Taxi Trip Fare Prediction - Model 2\n",
    "\n",
    "***\n",
    "\n",
    "The goal of this example is to build on the Model 1 example and generate a better ML model. We will\n",
    "- enhance the training dataset using contextual features\n",
    "- train an ML model based on historical taxi trip fare data and contextual features\n",
    "- serve the ML model to predict the trip fare for new trips\n",
    "\n",
    "### Prepare your data\n",
    "\n",
    "In the Model 1 example we configured a data source from a trip table csv file in an S3 bucket. In this example we will use one more csv file, geo_area_context to enrich the training dataset with more features for training.\n",
    "\n",
    "Let us look at the first few lines of the csv's which we will be going to use for building Model 2.\n",
    "   \n",
    "##### geo_area_context.csv\n",
    "    zipcode,geo_area\n",
    "    10023,Commercial\n",
    "    10021,Residential\n",
    "    10002,Suburbs\n",
    "    11201,Commercial\n",
    "\n",
    "\n",
    "We will enhance the training dataset by using this new data source. The data source is a csv file in S3 bucket containing the respective mapping.\n",
    "\n",
    "- a geo area table that maps a zipcode to a type of geo area.\n",
    "\n",
    "The idea is that the type of pickup and dropoff geo areas have an influence on the trip fare amount. We can create a more accurate ML model with these additional features."
   ]
  },
  {
   "cell_type": "markdown",
   "id": "976afc32-8c6f-4e66-a4fc-819d702f7b2a",
   "metadata": {
    "jp-MarkdownHeadingCollapsed": true,
    "tags": []
   },
   "source": [
    "***\n",
    "\n",
    "**We will reuse the `trip_fare` project from Model 1 for this example.**"
   ]
  },
  {
   "cell_type": "code",
   "execution_count": null,
   "id": "5d7dabf3-4c67-4a7a-9ae4-9b7832c29bd1",
   "metadata": {
    "tags": []
   },
   "outputs": [],
   "source": [
    "set project trip_fare"
   ]
  },
  {
   "cell_type": "markdown",
   "id": "1664147e-01c5-4fd6-9ffe-1c1fffed8238",
   "metadata": {
    "tags": []
   },
   "source": [
    "***\n",
    "\n",
    "# Configure Data Sources\n",
    "\n",
    "<html><img src=\"../../images/trip_fare_images/1_1.png\"/></html>\n",
    "\n",
    "In the Model 1 example we have configured the trip table csv file from an S3 bucket as a data source to Aizen. Similarly in this step we will configure one more data source corresponding to the new csv file in the S3 bucket. Data sources are connected to Aizen via the `configure datasource` command. This command will prompt for various settings.\n",
    "\n",
    "The relevant information for this command is shown below. Enter this information in the prompts:\n",
    "    \n",
    "            Source: New                Source Name: geo_area_datasource\n",
    "            Source Description: geo area data\n",
    "            Source Type: aws\n",
    "            Source Format: csv\n",
    "            S3 Endpoint: https://s3.us-west-2.amazonaws.com\n",
    "            S3 Bucket: s3a://aizen-public/trip_fare/geo_area_context.csv\n",
    "            S3 Anon: check (true)                                                              \n",
    "            Credential File:\n",
    "            Credential Key:\n",
    "\n",
    "Click the `Get Columns` button and review the source column schema. \n",
    "<br>Click the `Save Configuration` button to configure the geo_area datasource.\n"
   ]
  },
  {
   "cell_type": "code",
   "execution_count": null,
   "id": "977e3b7f-280f-435f-912f-c26f11feccf3",
   "metadata": {
    "tags": []
   },
   "outputs": [],
   "source": [
    "configure datasource"
   ]
  },
  {
   "cell_type": "markdown",
   "id": "f8b0d9e7-cf1d-4426-9c8b-a54b34e98c80",
   "metadata": {
    "tags": []
   },
   "source": [
    "***\n",
    "\n",
    "# Configure Data Sinks\n",
    "\n",
    "<html><img src=\"../../images/trip_fare_images/1_2.png\"/></html>\n",
    "\n",
    "In the Model 1 example we have configured an Events Data Sink against the trip table data source. In this step we will connect another data sink to the data source that we just configured. This will define the Aizen table that stores data from the data source. The data sink is a Static Data Sink because the data source is not event driven.\n",
    "\n",
    "Data sinks are connected to data sources via the `configure datasink` command. This command will prompt for various settings.The relevant information for this command is shown below. Enter this information in the prompts:\n",
    "    \n",
    "            DataSink: New                \n",
    "            DataSink Name: geo_area_datasink\n",
    "            DataSink Type: Static\n",
    "            Data Source: geo_area_datasource\n",
    "            Primary Key Columns: zipcode                                                           \n",
    "\n",
    "Click the `Save Configuration` button to configure the geo_area static data sink."
   ]
  },
  {
   "cell_type": "code",
   "execution_count": null,
   "id": "abe6de03-a88b-4df2-865f-a4d172ab8ec0",
   "metadata": {
    "tags": []
   },
   "outputs": [],
   "source": [
    "configure datasink"
   ]
  },
  {
   "cell_type": "markdown",
   "id": "e75e5d1e-d9db-4a76-8695-12edb92848a6",
   "metadata": {
    "tags": []
   },
   "source": [
    "***\n",
    "\n",
    "# Create a Training Dataset\n",
    "\n",
    "<html><img src=\"../../images/trip_fare_images/1_3.png\"/></html>\n",
    "\n",
    "In this step we will create a training dataset from the data sinks. As in the case of Model 1, we will use the pickup_zipcode, dropoff_zipcode and passenger_count as input features to the ML model and add these features into training dataset. The fare_amount is the target or label for the ML model to train and will be added as a label feature. All four features are basis features drawn from the Events Data Sink.\n",
    "<br>Additionally, we will use the pickup_geo_area and dropoff_geo_area as input features to the ML model. These two features are contextual features drawn from the Static Data Sink.\n",
    "\n",
    "## Building Datasets from Data Sinks\n",
    "\n",
    "<html><img src=\"../../images/trip_fare_images/2_1_free.png\"/></html>\n",
    "\n",
    "<br>Basis features are sourced from a single data sink. Contextual features are retrieved from data sinks using join keys from the basis features.\n",
    "\n",
    "Datasets are configured via the `configure dataset` command. This command will prompt for various settings. The relevant information for this command is shown below. Enter this information in the prompts:\n",
    "    \n",
    "            Dataset: New                  Dataset Name: trip_dataset_2\n",
    "            Feature: Create New\n",
    "            Feature Type: Basis\n",
    "            Data Sink: trip_datasink\n",
    "            Feature: pickup_datetime\n",
    "            Is Label: unchecked (false)   Materialize: checked (true)\n",
    "           \n",
    "Click the `Add Feature` button to add the pickup_datetime input feature. Continue to add all features with the following information in the prompts:\n",
    "\n",
    "            Feature: Create New\n",
    "            Feature Type: Basis\n",
    "            Data Sink: trip_datasink\n",
    "            Feature: pickup_zipcode\n",
    "            Is Label: unchecked (false)   Materialize: checked (true)\n",
    "\n",
    "Click the `Add Feature` button to add the pickup_zipcode input feature.           \n",
    "\n",
    "            Feature: Create New\n",
    "            Feature Type: Basis\n",
    "            Data Sink: trip_datasink\n",
    "            Feature: dropoff_zipcode\n",
    "            Is Label: unchecked (false)   Materialize: checked (true)\n",
    "\n",
    "Click the `Add Feature` button to add the dropoff_zipcode input feature.           \n",
    "\n",
    "            Feature: Create New\n",
    "            Feature Type: Basis\n",
    "            Data Sink: trip_datasink\n",
    "            Feature: passenger_count\n",
    "            Is Label: unchecked (false)   Materialize: checked (true)\n",
    "            \n",
    "Click the `Add Feature` button to add the passenger_count input feature.\n",
    "\n",
    "            Feature: Create New\n",
    "            Feature Type: Basis\n",
    "            Data Sink: trip_datasink\n",
    "            Feature: fare_amount\n",
    "            Is Label: checked (true)      Materialize: checked (true)\n",
    "\n",
    "Click the `Add Feature` button to add the fare_amount output feature.\n",
    "\n",
    "            Feature: Create New\n",
    "            Feature Type: Contextual\n",
    "            Name: pickup_geo_area\n",
    "            Is Label: unchecked (false)   Materialize: checked (true)\n",
    "            Expression: unchecked (false)\n",
    "            Data Sink: geo_area_datasink\n",
    "            Value: geo_area\n",
    "    Join Key Map: \n",
    "            zipcode: pickup_zipcode\n",
    "            Fillvalue:\n",
    "            \n",
    "Click the `Add Feature` button to add the pickup_geo_area input feature.\n",
    "\n",
    "            Feature: Create New\n",
    "            Feature Type: Contextual\n",
    "            Name: dropoff_geo_area\n",
    "            Is Label: unchecked (false)   Materialize: checked (true)\n",
    "            Expression: unchecked (false)\n",
    "            Data Sink: geo_area_datasink\n",
    "            Value: geo_area\n",
    "    Join Key Map: \n",
    "            zipcode: dropoff_zipcode\n",
    "            Fillvalue:\n",
    "            \n",
    "Click the `Add Feature` button to add the dropoff_geo_area input feature.\n",
    "<br>Click the `Save Configuration` button followed by the `OK` button to configure the dataset."
   ]
  },
  {
   "cell_type": "code",
   "execution_count": null,
   "id": "2349d4a3-a439-4eb8-9c84-83a5f3615001",
   "metadata": {},
   "outputs": [],
   "source": [
    "configure dataset"
   ]
  },
  {
   "cell_type": "markdown",
   "id": "b7d639b8",
   "metadata": {},
   "source": [
    "### Create the dataset\n",
    "\n",
    "Use the `start dataset` command to materialize the configured dataset into a training dataset table.The `status dataset` command will show the current status of dataset generation; \"RUNNING\", \"COMPLETED\" or \"ERROR\". The `list datasets` command will list the created datasets within a project. The `display dataset` command will display the first few rows of the training dataset.\n",
    "\n",
    "**This command may take up to 10 minutes due to the size of the dataset.**"
   ]
  },
  {
   "cell_type": "code",
   "execution_count": null,
   "id": "857761ca",
   "metadata": {},
   "outputs": [],
   "source": [
    "start dataset trip_dataset_2"
   ]
  },
  {
   "cell_type": "code",
   "execution_count": null,
   "id": "f023333d",
   "metadata": {},
   "outputs": [],
   "source": [
    "status dataset trip_dataset_2"
   ]
  },
  {
   "cell_type": "code",
   "execution_count": null,
   "id": "6740aeed-884e-4d2f-a01b-2fac41f7748a",
   "metadata": {},
   "outputs": [],
   "source": [
    "list datasets"
   ]
  },
  {
   "cell_type": "code",
   "execution_count": null,
   "id": "2eacdcf3-0d4d-49ee-9602-8d71edb477fb",
   "metadata": {},
   "outputs": [],
   "source": [
    "display dataset trip_dataset_2"
   ]
  },
  {
   "cell_type": "markdown",
   "id": "2d20eae0-9027-4a1a-a225-041328c49443",
   "metadata": {
    "tags": []
   },
   "source": [
    "***\n",
    "\n",
    "# Train an ML Model\n",
    "\n",
    "<html><img src=\"../../images/trip_fare_images/1_5.png\"/></html>\n",
    "\n",
    "In this step we will train an ML model using the training dataset that was created. We will use the pickup_zipcode, dropoff_zipcode, passenger_count, pickup_geo_area and dropoff_geo_area as input features to the ML model. The fare_amount will be the target or label for the ML model. \n",
    "\n",
    "A Training Experiment must be configured to train a model. Experiments are configured via the `configure training` command. This command will prompt for various settings. We will configure a Machine Learning experiment for Model 2. The relevant information for this command is shown below. Enter this information in the prompts:\n",
    "    \n",
    "            Training Experiment: New                  Experiment Name: trip_ml_exp_2        Model Name: trip_fare_2_ml_model\n",
    "            Select \"Machine Learning\"                 Select \"Basic Settings\"               ML Type: regression\n",
    "            Dataset: trip_dataset_2                   Select Column: pickup_datetime        Click Remove Input Feature\n",
    "           \n",
    "Click the `Save Configuration` button to save the Machine Learning experiment configuration."
   ]
  },
  {
   "cell_type": "code",
   "execution_count": null,
   "id": "c4a1e956-55cc-4354-8cef-1854796545c9",
   "metadata": {},
   "outputs": [],
   "source": [
    "configure training"
   ]
  },
  {
   "cell_type": "markdown",
   "id": "51aba791-a8ab-4372-a9ab-f5f5179afc33",
   "metadata": {
    "tags": []
   },
   "source": [
    "### Start ML model training\n",
    "\n",
    "Use the `start training` command to run the training experiment. The `status training` command will show the status of the model training. \n",
    "\n",
    "### Machine Learning\n",
    "\n",
    "When training a Machine Learning model to predict the 'fare_amount', auto-ML selects the best model after running through different machine learning algorithms for regression tasks."
   ]
  },
  {
   "cell_type": "code",
   "execution_count": null,
   "id": "fdc9581d-5a4f-4a19-8813-41bcf6ad6e98",
   "metadata": {},
   "outputs": [],
   "source": [
    "start training trip_ml_exp_2,limit=2000"
   ]
  },
  {
   "cell_type": "markdown",
   "id": "47cf21cb-e2b4-4557-a125-011d36f596e1",
   "metadata": {},
   "source": [
    "**Click the url shown in the output of status to open a *ML-Flow* session that displays the training metrics.**"
   ]
  },
  {
   "cell_type": "markdown",
   "id": "e2b78f75-739e-4aab-b4bd-671128e6ba4e",
   "metadata": {},
   "source": [
    "#### Wait for ML model training to complete\n",
    "\n",
    "Use the `status training` command to check the status of the model training. Wait for the ML model training status to complete. "
   ]
  },
  {
   "cell_type": "markdown",
   "id": "d56ba394-9257-400f-a838-d62de0486896",
   "metadata": {},
   "source": [
    "**Training could take 10 minutes or more to complete.**"
   ]
  },
  {
   "cell_type": "code",
   "execution_count": null,
   "id": "b09d32c9-dc59-4740-8026-9dfc70308749",
   "metadata": {},
   "outputs": [],
   "source": [
    "status training trip_ml_exp_2"
   ]
  },
  {
   "cell_type": "markdown",
   "id": "264c64e0-6d42-43fa-8662-30db6edc846d",
   "metadata": {
    "tags": []
   },
   "source": [
    "## Register a trained ML model\n",
    "\n",
    "After the training is complete, the `status training` command will show COMPLETED status. The trained ML model must be registered before it can be used for predictions. The `list trained-models` command will list all the trained models within a project. The `register model` command will register a trained model. The `list registered-models` will list all registered models within a project."
   ]
  },
  {
   "cell_type": "markdown",
   "id": "023c2c20-9f5c-4b38-9017-d4aa1c9c0440",
   "metadata": {
    "tags": []
   },
   "source": [
    "##### To list all the ML models that have been trained"
   ]
  },
  {
   "cell_type": "code",
   "execution_count": null,
   "id": "04d0caed-221a-444b-a817-33b24ce1a137",
   "metadata": {},
   "outputs": [],
   "source": [
    "list trained-models trip_fare_2_ml_model"
   ]
  },
  {
   "cell_type": "markdown",
   "id": "6598e599-775c-4598-b35f-ba1a258a813b",
   "metadata": {
    "tags": []
   },
   "source": [
    "##### Run this cell to register the machine learning model"
   ]
  },
  {
   "cell_type": "code",
   "execution_count": null,
   "id": "47cf8fb1-68c6-498f-95aa-e3824a73b2c4",
   "metadata": {},
   "outputs": [],
   "source": [
    "register model trip_fare_2_ml_model,1,PRODUCTION"
   ]
  },
  {
   "cell_type": "markdown",
   "id": "40ef43d7-f5e7-4715-b81a-4e9eca1cfee7",
   "metadata": {},
   "source": [
    "#### To list all registered models"
   ]
  },
  {
   "cell_type": "code",
   "execution_count": null,
   "id": "3b702629-3994-465e-87b8-74e1b7b6d680",
   "metadata": {},
   "outputs": [],
   "source": [
    "list registered-models"
   ]
  },
  {
   "cell_type": "markdown",
   "id": "c510b4eb-2662-41f1-8436-78ad0008267b",
   "metadata": {
    "tags": []
   },
   "source": [
    "***\n",
    "\n",
    "# Serve an ML Model\n",
    "\n",
    "<html><img src=\"../../images/trip_fare_images/1_6.png\"/></html>\n",
    "\n",
    "In this step we will deploy a trained ML model to serve prediction requests. We will deploy the Machine Learning model. A prediction deployment must be configured to deploy a model. Deployments are configured via the `configure prediction` command. This command will prompt for various settings.\n",
    "\n",
    "The relevant information for this command is shown below. Enter this information in the prompts:\n",
    "    \n",
    "            Prediction: New                  Prediction Name: trip_ml_deploy_2        Model Name: trip_fare_2_ml_model       Model Version: 1\n",
    "            Source Type: http\n",
    "           \n",
    "Click the `Save Configuration` button to save the Machine Learning deployment."
   ]
  },
  {
   "cell_type": "code",
   "execution_count": null,
   "id": "444b2451-333b-43c6-881a-2c0f1b505fbf",
   "metadata": {
    "tags": []
   },
   "outputs": [],
   "source": [
    "configure prediction"
   ]
  },
  {
   "cell_type": "markdown",
   "id": "c94ed9da-ea39-4da4-8481-c65a8b8ea3c7",
   "metadata": {
    "tags": []
   },
   "source": [
    "### Deploy the model\n",
    "\n",
    "Use the `start prediction` command to run the deployment. The `status prediction` command will show the status of the model serving. The url shown in the output is the endpoint to which REST prediction request may be sent via `curl` or some other means."
   ]
  },
  {
   "cell_type": "code",
   "execution_count": null,
   "id": "4f00bbf3-b210-4830-a3b9-ace86c905220",
   "metadata": {},
   "outputs": [],
   "source": [
    "start prediction trip_ml_deploy_2"
   ]
  },
  {
   "cell_type": "code",
   "execution_count": null,
   "id": "a89b01ad-a566-4394-bf5f-a8893b703b51",
   "metadata": {},
   "outputs": [],
   "source": [
    "status prediction trip_ml_deploy_2"
   ]
  },
  {
   "cell_type": "markdown",
   "id": "7f1912b3-4479-431d-9651-584e536aa7b2",
   "metadata": {
    "tags": []
   },
   "source": [
    "## Predict trip fare amounts\n",
    "\n",
    "Use the `test prediction` command to send prediction requests to the deployed model. The command by default uses the last 10 rows from the training dataset and sends those rows in curl prediction requests to the deployed model. The predictions responses are collected and displayed.\n",
    "\n",
    "Note: when you run the start prediction command, a prediction job starts running which deploys the model. You can use the URL in the status prediction to send curl requests to the deployed model. The `test prediction` command outputs an \"Example Curl Request\". Use this Curl request example to send data to the deployed model or integrate the curl request logic into applications which can send prediction requests and interpret prediction responses."
   ]
  },
  {
   "cell_type": "code",
   "execution_count": null,
   "id": "cc06da10-dd0d-4ff3-ac89-749424156074",
   "metadata": {},
   "outputs": [],
   "source": [
    "test prediction trip_ml_deploy_2"
   ]
  },
  {
   "cell_type": "markdown",
   "id": "9404e8ed-a084-44a1-8670-99e48b81fa37",
   "metadata": {},
   "source": [
    "## Building Input Features for Predictions\n",
    "\n",
    "<html><img src=\"../../images/trip_fare_images/2_2_free.png\"/></html>\n",
    "\n",
    "When an application sends a prediction request, the basis input features are present in the prediction request. Any contextual features are fetched from data sinks and appended to the basis features before calling the model for a prediciton. The labels or output features are returned in the prediction response.\n",
    "\n",
    "The cell below is a Markdown cell showing how to run a Curl Request to fetch predictions. Convert the cell into the Code state, then replace the prediction URL in the text below and execute the cell to get a prediction response."
   ]
  },
  {
   "cell_type": "markdown",
   "id": "3bfd6296-1277-4423-b95e-b54389204b50",
   "metadata": {
    "jupyter": {
     "outputs_hidden": true
    },
    "tags": []
   },
   "source": [
    "!curl -X POST \">enter the prediction URL here<\" -H \"Content-Type: application/json\" -d '[{\"rest_request_id\": \"prediction_test-1\", \"pickup_datetime\": \"2022-11-12 11:29:05\", \"pickup_zipcode\": \"10069\", \"dropoff_zipcode\": \"10107\", \"passenger_count\": 3}]'"
   ]
  },
  {
   "cell_type": "markdown",
   "id": "9b59b985-6b2f-4d97-8dcb-b458a30e009b",
   "metadata": {},
   "source": [
    "### Stop the deployed model\n",
    "\n",
    "Use the `stop prediction` command to stop ML model serving when you have completed the prediction requests. This step is optional, you may choose to leave the model deployed."
   ]
  },
  {
   "cell_type": "code",
   "execution_count": null,
   "id": "c17235d1-49dc-4eb5-9a3d-a0f3b4618de4",
   "metadata": {},
   "outputs": [],
   "source": [
    "stop prediction trip_ml_deploy_2"
   ]
  }
 ],
 "metadata": {
  "kernelspec": {
   "display_name": "Aizen",
   "language": "python",
   "name": "Aizen (kernel)"
  },
  "language_info": {
   "file_extension": ".py",
   "mimetype": "text/x-python",
   "name": "python"
  }
 },
 "nbformat": 4,
 "nbformat_minor": 5
}
