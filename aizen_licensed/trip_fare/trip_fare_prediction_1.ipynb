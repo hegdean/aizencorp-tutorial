{
 "cells": [
  {
   "cell_type": "markdown",
   "id": "93f77938-7669-4c71-aabe-49ecd7316e2e",
   "metadata": {
    "tags": []
   },
   "source": [
    "***\n",
    "\n",
    "# Taxi Trip Fare Prediction - Model 1\n",
    "\n",
    "***\n",
    "\n",
    "The goal of this example is to train and serve a taxi trip fare prediction model. We will\n",
    "- train an ML model based on historical taxi trip fare data\n",
    "- serve the ML model to predict the trip fare for new trips\n"
   ]
  },
  {
   "cell_type": "markdown",
   "id": "9ba9202f-a04e-4ba1-81b4-95f18f447397",
   "metadata": {
    "tags": []
   },
   "source": [
    "***\n",
    "\n",
    "### Create project\n",
    "\n",
    "We will create a project called `trip_fare` for this tutorial."
   ]
  },
  {
   "cell_type": "code",
   "execution_count": null,
   "id": "2423ef58-cbcc-4bfe-ae22-a79699bbc5bf",
   "metadata": {
    "tags": []
   },
   "outputs": [],
   "source": [
    "create project trip_fare"
   ]
  },
  {
   "cell_type": "markdown",
   "id": "fef4ad9e-7731-4c02-b405-19379b7a28fd",
   "metadata": {
    "tags": []
   },
   "source": [
    "***\n",
    "\n",
    "# Configure Data Sources\n",
    "\n",
    "<html><img src=\"../../images/trip_fare_images/1_1.png\"/></html>\n",
    "\n",
    "We will be using trip_table.csv available in s3 bucket to fetch the data and start working on it. The data includes the pickup datetime, pickup latitude, longitude, dropoff latitude, longitude, pickup and dropoff zipcodes, passenger count and fare amount.\n",
    "\n",
    "The first few lines of the csv file are shown below,\n",
    "\n",
    "##### pickup_datetime,pickup_longitude,pickup_latitude,dropoff_longitude,dropoff_latitude,pickup_zipcode,dropoff_zipcode,passenger_count,fare_amount\n",
    "    2022-10-18 03:16:57,-73.9617,40.7628,-73.9748,40.7528,10065,10017,1,25.45\n",
    "    2022-10-18 03:17:00,-73.9957,40.7594,-73.9758,40.7553,10199,10111,1,16.48\n",
    "    2022-10-18 03:17:00,-73.9946,40.7259,-73.9915,40.7325,10003,10003,1,13.1\n",
    "    2022-10-18 03:17:46,-73.9893,40.7419,-74.0018,40.7263,10010,10012,1,23.31\n",
    "    \n",
    "In this step we will connect AWS S3 as a data source to Aizen. This will allow Aizen to read the trip table csv file from the S3 bucket. Data sources are connected to Aizen via the `configure datasource` command. This command will prompt for various settings. The relevant information for this command is shown below. Enter this information in the prompts:\n",
    "    \n",
    "            Source: New                Source Name: trip_datasource\n",
    "            Source Description: taxi trip data\n",
    "            Source Type: aws\n",
    "            Source Format: csv\n",
    "            S3 Endpoint: https://s3.us-west-2.amazonaws.com\n",
    "            S3 Bucket: s3a://aizen-public/trip_fare/trip_table.csv\n",
    "            S3 Anon: check (true)                                                              \n",
    "            Credential File:\n",
    "            Credential Key:\n",
    "\n",
    "The credentials are left blank. Click the `Get Columns` button and review the source column schema. \n",
    "<br>Click the `Save Configuration` button to configure the datasource."
   ]
  },
  {
   "cell_type": "code",
   "execution_count": null,
   "id": "985490ee-5693-4c73-b5aa-17e23bd52d23",
   "metadata": {
    "tags": []
   },
   "outputs": [],
   "source": [
    "configure datasource"
   ]
  },
  {
   "cell_type": "markdown",
   "id": "c0c22c3c-8a38-4bf2-aa1f-5fa9ecdb6570",
   "metadata": {
    "tags": []
   },
   "source": [
    "***\n",
    "\n",
    "# Configure Data Sinks\n",
    "\n",
    "<html><img src=\"../../images/trip_fare_images/1_2.png\"/></html>\n",
    "\n",
    "In this step we will connect a data sink to the data source. This will define the Aizen table that stores data from the data source. This data sink is an Events Data Sink because the data source is event driven with the pickup_datetime as the event timestamp. \n",
    "\n",
    "Data sinks are connected to data sources via the `configure datasink` command. This command will prompt for various settings. The relevant information for this command is shown below. Enter this information in the prompts:\n",
    "    \n",
    "            DataSink: New                \n",
    "            DataSink Name: trip_datasink\n",
    "            DataSink Type: Events\n",
    "            Data Source: trip_datasource\n",
    "            Primary Key Columns (multi-select): pickup_latitude, pickup_longitude, dropoff_latitude, dropoff_longitude, pickup_zipcode, dropoff_zipcode                                                           \n",
    "            Timestamp Column: pickup_datetime\n",
    "            Min Aggregation Interval: 1h\n",
    "            Backfill Start: 10/18/2022 12:00 AM\n",
    "            Backfill End: 11/28/2022 12:00 AM\n",
    "\n",
    "Click the `Save Configuration` button to configure the data sink."
   ]
  },
  {
   "cell_type": "code",
   "execution_count": null,
   "id": "4a4ff6e1-06d8-48da-811c-0d32c3b05870",
   "metadata": {
    "tags": []
   },
   "outputs": [],
   "source": [
    "configure datasink"
   ]
  },
  {
   "cell_type": "markdown",
   "id": "e75e5d1e-d9db-4a76-8695-12edb92848a6",
   "metadata": {
    "tags": []
   },
   "source": [
    "***\n",
    "\n",
    "# Create a Training Dataset\n",
    "\n",
    "<html><img src=\"../../images/trip_fare_images/1_3.png\"/></html>\n",
    "\n",
    "\n",
    "In this step we will create a training dataset from the data sink. We will use the pickup_zipcode, dropoff_zipcode and passenger_count as input features to the ML model and add these features into training dataset. The fare_amount is the target or label for the ML model to train and will be added as a label feature. All four features are basis features drawn from the Events Data Sink.\n",
    "\n",
    "## Building Datasets from Data Sinks\n",
    "\n",
    "<html><img src=\"../../images/trip_fare_images/1_4.png\"/></html>\n",
    "\n",
    "<br>Basis features are sourced from a single data sink.\n",
    "\n",
    "Datasets are configured via the `configure dataset` command. This command will prompt for various settings. The relevant information for this command is shown below. Enter this information in the prompts:\n",
    "    \n",
    "            Dataset: New                  Dataset Name: trip_dataset_1\n",
    "            Feature: Create New\n",
    "            Feature Type: Basis\n",
    "            Data Sink: trip_datasink\n",
    "            Feature: pickup_datetime\n",
    "            Is Label: unchecked (false)   Materialize: checked (true)\n",
    "           \n",
    "Click the `Add Feature` button to add the pickup_datetime input feature. Continue to add all features with the following information in the prompts:\n",
    "\n",
    "            Feature: Create New\n",
    "            Feature Type: Basis\n",
    "            Data Sink: trip_datasink\n",
    "            Feature: pickup_zipcode\n",
    "            Is Label: unchecked (false)   Materialize: checked (true)\n",
    "\n",
    "Click the `Add Feature` button to add the pickup_zipcode input feature.           \n",
    "\n",
    "            Feature: Create New\n",
    "            Feature Type: Basis\n",
    "            Data Sink: trip_datasink\n",
    "            Feature: dropoff_zipcode\n",
    "            Is Label: unchecked (false)   Materialize: checked (true)\n",
    "\n",
    "Click the `Add Feature` button to add the dropoff_zipcode input feature.           \n",
    "\n",
    "            Feature: Create New\n",
    "            Feature Type: Basis\n",
    "            Data Sink: trip_datasink\n",
    "            Feature: passenger_count\n",
    "            Is Label: unchecked (false)   Materialize: checked (true)\n",
    "            \n",
    "Click the `Add Feature` button to add the passenger_count input feature.\n",
    "\n",
    "            Feature: Create New\n",
    "            Feature Type: Basis\n",
    "            Data Sink: trip_datasink\n",
    "            Feature: fare_amount\n",
    "            Is Label: checked (true)      Materialize: checked (true)\n",
    "\n",
    "Click the `Add Feature` button to add the fare_amount output feature.\n",
    "<br>Click the `Save Configuration` button followed by the `OK` button to configure the dataset."
   ]
  },
  {
   "cell_type": "code",
   "execution_count": null,
   "id": "2349d4a3-a439-4eb8-9c84-83a5f3615001",
   "metadata": {
    "tags": []
   },
   "outputs": [],
   "source": [
    "configure dataset"
   ]
  },
  {
   "cell_type": "markdown",
   "id": "2bcf2c51",
   "metadata": {},
   "source": [
    "### Create the dataset\n",
    "\n",
    "Use the `start dataset` command to materialize the configured dataset into a training dataset table.The `status dataset` command will show the current status of dataset generation; \"RUNNING\", \"COMPLETED\" or \"ERROR\". The `list datasets` command will list the created datasets within a project. The `display dataset` command will display the first few rows of the training dataset.\n",
    "\n",
    "**This command may take up to 10 minutes due to the size of the dataset.**"
   ]
  },
  {
   "cell_type": "code",
   "execution_count": null,
   "id": "c2439a9e",
   "metadata": {},
   "outputs": [],
   "source": [
    "start dataset trip_dataset_1"
   ]
  },
  {
   "cell_type": "code",
   "execution_count": null,
   "id": "dbc0587a",
   "metadata": {},
   "outputs": [],
   "source": [
    "status dataset trip_dataset_1"
   ]
  },
  {
   "cell_type": "code",
   "execution_count": null,
   "id": "6740aeed-884e-4d2f-a01b-2fac41f7748a",
   "metadata": {
    "tags": []
   },
   "outputs": [],
   "source": [
    "list datasets"
   ]
  },
  {
   "cell_type": "code",
   "execution_count": null,
   "id": "9e423b78",
   "metadata": {
    "tags": []
   },
   "outputs": [],
   "source": [
    "display dataset trip_dataset_1"
   ]
  },
  {
   "cell_type": "markdown",
   "id": "36c4dadf-7205-4485-b8c1-1c5c09a3e899",
   "metadata": {
    "tags": []
   },
   "source": [
    "### Data analysis on the dataset\n",
    "\n",
    "Use the `loader` command to load the dataset for visual exploration. Run the `loader` command, click the `Datasets` button and select the `trip_dataset_1` table.\n",
    "\n",
    "Click the `Load Table` button to load the dataset."
   ]
  },
  {
   "cell_type": "code",
   "execution_count": null,
   "id": "1a9206b7",
   "metadata": {},
   "outputs": [],
   "source": [
    "loader"
   ]
  },
  {
   "cell_type": "code",
   "execution_count": null,
   "id": "dff043ba-0506-4d63-96ec-6d0d9c37662e",
   "metadata": {
    "tags": []
   },
   "outputs": [],
   "source": [
    "show stats"
   ]
  },
  {
   "cell_type": "markdown",
   "id": "e12c715a-474c-42ad-8a79-584202704fd5",
   "metadata": {},
   "source": [
    "Run the `plot` command to display various charts.\n",
    "<br>As an example, select DataFrame `trip_dataset_1`, select Chart Type `heatmap` and Dimension Columns pickup_zipcode, dropoff_zipcode, passenger_count, fare_amount. Click the `Update Plot` button."
   ]
  },
  {
   "cell_type": "code",
   "execution_count": null,
   "id": "327026fe-8724-42d4-9560-7f989b5f342c",
   "metadata": {},
   "outputs": [],
   "source": [
    "plot"
   ]
  },
  {
   "cell_type": "markdown",
   "id": "2d20eae0-9027-4a1a-a225-041328c49443",
   "metadata": {
    "tags": []
   },
   "source": [
    "***\n",
    "\n",
    "# Train an ML Model\n",
    "\n",
    "<html><img src=\"../../images/trip_fare_images/1_5.png\"/></html>\n",
    "\n",
    "In this step we will train ML models using the training dataset that was created. We will use the pickup_zipcode, dropoff_zipcode and passenger_count as input features to the ML models. The fare_amount will be the target or label for the ML models. There are two types of Training Experiments in Aizen -\n",
    "\n",
    "1. Machine Learning: Uses machine learning models to accomplish supervised and unsupervised learning tasks with models like linear regression, logistic regression, random forests, etc. \n",
    "\n",
    "2. Deep Learning: Uses neural network based models like cnn, lstm and rnn.\n",
    "\n",
    "A Training Experiment must be configured to train a model. Experiments are configured via the `configure training` command. This command will prompt for various settings. We will configure two experiments, one for Machine Learning and the other for Deep Learning. The relevant information for this command is shown below. Enter this information in the prompts:\n",
    "    \n",
    "            Training Experiment: New                  Experiment Name: trip_ml_exp_1        Model Name: trip_fare_1_ml_model\n",
    "            Select \"Machine Learning\"                 Select \"Basic Settings\"               ML Type: regression\n",
    "            Dataset: trip_dataset_1                   Select Column: pickup_datetime        Click Remove Input Feature\n",
    "           \n",
    "Click the `Save Configuration` button to save the Machine Learning experiment configuration.\n",
    "<br>Execute the `configure training` cell again to configure the second experiment. Enter this information in the prompts:\n",
    "\n",
    "            Training Experiment: New                  Experiment Name: trip_dl_exp_1        Model Name: trip_fare_1_dl_model\n",
    "            Select \"Deep Learning\"                    Select \"Basic Settings\"\n",
    "            Dataset: trip_dataset_1                   Select Column: pickup_datetime        Click Remove Input Feature\n",
    "            Epochs: 15                                Early Stop: 1                         Batch Size: 2048\n",
    "            \n",
    "Click the `Save Configuration` button to save the Deep Learning experiment configuration.\n",
    "<br>Execute `listconfig trainings` to list the configured training experiments."
   ]
  },
  {
   "cell_type": "code",
   "execution_count": null,
   "id": "1d2ff37e-37c7-4d33-bf1f-fd2000fc4d2e",
   "metadata": {
    "tags": []
   },
   "outputs": [],
   "source": [
    "configure training"
   ]
  },
  {
   "cell_type": "code",
   "execution_count": null,
   "id": "fb16de16-a6ba-483f-80f7-577730abf9f2",
   "metadata": {
    "tags": []
   },
   "outputs": [],
   "source": [
    "listconfig trainings"
   ]
  },
  {
   "cell_type": "markdown",
   "id": "51aba791-a8ab-4372-a9ab-f5f5179afc33",
   "metadata": {
    "tags": []
   },
   "source": [
    "### Start ML model training\n",
    "\n",
    "Use the `start training` command to run the training experiments. The `status training` command will show the status of the model training. \n",
    "\n",
    "### Machine Learning\n",
    "\n",
    "When training a Machine Learning model to predict the 'fare_amount', auto-ML selects the best model after running through different machine learning algorithms for regression tasks."
   ]
  },
  {
   "cell_type": "code",
   "execution_count": null,
   "id": "e344840d-b95e-4fdb-8db6-676751ae443c",
   "metadata": {
    "tags": []
   },
   "outputs": [],
   "source": [
    "start training trip_ml_exp_1,limit=2000"
   ]
  },
  {
   "cell_type": "markdown",
   "id": "4ed90d4b-6cb8-413a-b198-f4df72d2d2fb",
   "metadata": {},
   "source": [
    "**Click the url shown in the output of status to open a *ML-Flow* session that displays the training metrics.**"
   ]
  },
  {
   "cell_type": "markdown",
   "id": "54ba23af-35db-4bca-a3c8-9548beb3ce09",
   "metadata": {
    "tags": []
   },
   "source": [
    "#### Wait for ML model training to complete\n",
    "\n",
    "Use the `status training` command to check the status of the model training. Wait for the ML model training status to complete. \n",
    "\n",
    "**Training could take 10 minutes or more to complete.**"
   ]
  },
  {
   "cell_type": "code",
   "execution_count": null,
   "id": "1bac5d0d-ea54-4744-a9c9-be74b7797ec7",
   "metadata": {
    "tags": []
   },
   "outputs": [],
   "source": [
    "status training trip_ml_exp_1"
   ]
  },
  {
   "cell_type": "markdown",
   "id": "5b361a7b-0888-413f-992d-a69c4468c184",
   "metadata": {},
   "source": [
    "### Deep Learning\n",
    "\n",
    "Training using Deep Learning models to predict 'fare_amount'. Auto-ML behind the scenes selects a cnn architecture to create the model."
   ]
  },
  {
   "cell_type": "code",
   "execution_count": null,
   "id": "dbfcd1f5-f6d3-40ea-ad6b-354b6ade890f",
   "metadata": {
    "tags": []
   },
   "outputs": [],
   "source": [
    "start training trip_dl_exp_1"
   ]
  },
  {
   "cell_type": "markdown",
   "id": "15956ddf-0cd9-42eb-8e14-f4991a2c3181",
   "metadata": {},
   "source": [
    "**Click the url shown in the output to open a *TensorBoard* session that displays the training progress and metrics.** After opening the *TensorBoard* url click on the reload button to the top right of the *TensorBoard* page.\n",
    "\n",
    "**Training could take 10 minutes or more to complete.**"
   ]
  },
  {
   "cell_type": "code",
   "execution_count": null,
   "id": "af65730c-34c6-4ffc-91d8-070e1ae5de3d",
   "metadata": {
    "tags": []
   },
   "outputs": [],
   "source": [
    "status training trip_dl_exp_1"
   ]
  },
  {
   "cell_type": "markdown",
   "id": "adc4d1c2-cfbf-4fc3-a710-37a372b2606a",
   "metadata": {
    "tags": []
   },
   "source": [
    "#### Note:\n",
    " TensorBoard is only available for Deep Learning models\n",
    " \n",
    "     list tensorboard \"<model_name>,<run_id>\""
   ]
  },
  {
   "cell_type": "code",
   "execution_count": null,
   "id": "cb827f8a-9533-4964-a45c-4b3a893b94c3",
   "metadata": {},
   "outputs": [],
   "source": [
    "list tensorboard trip_fare_1_dl_model,1"
   ]
  },
  {
   "cell_type": "markdown",
   "id": "264c64e0-6d42-43fa-8662-30db6edc846d",
   "metadata": {
    "tags": []
   },
   "source": [
    "## Register a trained ML model\n",
    "After the training is complete, the `status training` command will show COMPLETED status. The trained ML model must be registered before it can be used for predictions. The `list trained-models` command will list all the trained models within a project. The `register model` command will register a trained model. The `list registered-models` will list all registered models within a project."
   ]
  },
  {
   "cell_type": "markdown",
   "id": "6eae551e-7c88-44ce-b268-537ab4f510ca",
   "metadata": {
    "tags": []
   },
   "source": [
    "##### To list all the ML models that have been trained"
   ]
  },
  {
   "cell_type": "code",
   "execution_count": null,
   "id": "96ba25e6-2e65-4c22-8579-b4ad311a876a",
   "metadata": {
    "tags": []
   },
   "outputs": [],
   "source": [
    "list trained-models trip_fare_1_ml_model"
   ]
  },
  {
   "cell_type": "markdown",
   "id": "305d8a8b-09f5-457e-bd03-8f480b27e6b5",
   "metadata": {
    "tags": []
   },
   "source": [
    "##### To list all the DL models that have been trained"
   ]
  },
  {
   "cell_type": "code",
   "execution_count": null,
   "id": "44a28765-1a55-4b5f-b073-bf0d910047d2",
   "metadata": {
    "tags": []
   },
   "outputs": [],
   "source": [
    "list trained-models trip_fare_1_dl_model"
   ]
  },
  {
   "cell_type": "markdown",
   "id": "cf2016aa-e0a6-4da4-a7fd-0af759f785af",
   "metadata": {
    "tags": []
   },
   "source": [
    "##### Run this cell to register the machine learning model"
   ]
  },
  {
   "cell_type": "code",
   "execution_count": null,
   "id": "322694fd-722e-4e6e-bc1f-879705d943b3",
   "metadata": {
    "tags": []
   },
   "outputs": [],
   "source": [
    "register model trip_fare_1_ml_model,1,PRODUCTION"
   ]
  },
  {
   "cell_type": "markdown",
   "id": "1da78f59-f556-4707-808d-0bb18c2d1445",
   "metadata": {
    "tags": []
   },
   "source": [
    "##### Run this cell to register the deep learning model"
   ]
  },
  {
   "cell_type": "code",
   "execution_count": null,
   "id": "1686fc76-4f5b-4a4a-b0e9-668d52a19bb6",
   "metadata": {
    "tags": []
   },
   "outputs": [],
   "source": [
    "register model trip_fare_1_dl_model,1,PRODUCTION"
   ]
  },
  {
   "cell_type": "markdown",
   "id": "03f41ea6-ff20-449f-8118-7e32c2f01a44",
   "metadata": {},
   "source": [
    "#### To list all registered models"
   ]
  },
  {
   "cell_type": "code",
   "execution_count": null,
   "id": "560f2743-780b-4741-9be3-1188333783f5",
   "metadata": {
    "tags": []
   },
   "outputs": [],
   "source": [
    "list registered-models"
   ]
  },
  {
   "cell_type": "markdown",
   "id": "c510b4eb-2662-41f1-8436-78ad0008267b",
   "metadata": {
    "tags": []
   },
   "source": [
    "***\n",
    "\n",
    "# Serve an ML Model\n",
    "\n",
    "<html><img src=\"../../images/trip_fare_images/1_6.png\"/></html>\n",
    "\n",
    "In this step we will deploy a trained ML model to serve prediction requests. We will deploy the Machine Learning model. A prediction deployment must be configured to deploy a model. Deployments are configured via the `configure prediction` command. This command will prompt for various settings.\n",
    "\n",
    "The relevant information for this command is shown below. Enter this information in the prompts:\n",
    "    \n",
    "            Prediction: New                  Prediction Name: trip_ml_deploy_1        Model Name: trip_fare_1_ml_model       Model Version: 1\n",
    "            Source Type: http\n",
    "           \n",
    "Click the `Save Configuration` button to save the Machine Learning deployment."
   ]
  },
  {
   "cell_type": "code",
   "execution_count": null,
   "id": "01ddd7a7-65e9-43e8-86fa-0c43ac0fc6bd",
   "metadata": {
    "tags": []
   },
   "outputs": [],
   "source": [
    "configure prediction"
   ]
  },
  {
   "cell_type": "markdown",
   "id": "696496ab-5c55-41d3-a12e-fd05fa6bfe55",
   "metadata": {
    "tags": []
   },
   "source": [
    "### Deploy the model\n",
    "\n",
    "Use the `start prediction` command to run the deployment. The `status prediction` command will show the status of the model serving. The url shown in the output is the endpoint to which REST prediction request may be sent via `curl` or some other means."
   ]
  },
  {
   "cell_type": "code",
   "execution_count": null,
   "id": "ccac28df-f7d2-4735-973a-5970e022e242",
   "metadata": {},
   "outputs": [],
   "source": [
    "start prediction trip_ml_deploy_1"
   ]
  },
  {
   "cell_type": "code",
   "execution_count": null,
   "id": "65b8bd8c-cf09-4e34-b9d7-6a26dcf76b29",
   "metadata": {},
   "outputs": [],
   "source": [
    "status prediction trip_ml_deploy_1"
   ]
  },
  {
   "cell_type": "markdown",
   "id": "135c7bda-0300-4d39-bf09-beb615d54031",
   "metadata": {
    "tags": []
   },
   "source": [
    "## Predict trip fare amounts\n",
    "\n",
    "Use the `test prediction` command to send prediction requests to the deployed model. The command by default uses the last 10 rows from the training dataset and sends those rows in curl prediction requests to the deployed model. The predictions responses are collected and displayed.\n",
    "\n",
    "Note: when you run the start prediction command, a prediction job starts running which deploys the model. You can use the URL in the status prediction to send curl requests to the deployed model. The `test prediction` command outputs an \"Example Curl Request\". Use this Curl request example to send data to the deployed model or integrate the curl request logic into applications which can send prediction requests and interpret prediction responses."
   ]
  },
  {
   "cell_type": "code",
   "execution_count": null,
   "id": "8d95404a",
   "metadata": {},
   "outputs": [],
   "source": [
    "test prediction trip_ml_deploy_1"
   ]
  },
  {
   "cell_type": "markdown",
   "id": "dfd747f3-c1c1-4aec-8bcc-eeb5d43fd94b",
   "metadata": {},
   "source": [
    "## Building Input Features for Predictions\n",
    "\n",
    "<html><img src=\"../../images/trip_fare_images/1_7.png\"/></html>\n",
    "\n",
    "When an application sends a prediction request, the basis input features are present in the prediction request. The labels or output features are returned in the prediction response.\n",
    "\n",
    "The cell below is a Markdown cell showing how to run a Curl Request to fetch predictions. Convert the cell into the Code state, then replace the prediction URL in the text below and execute the cell to get a prediction response."
   ]
  },
  {
   "cell_type": "markdown",
   "id": "16bf6ebf-96af-404a-81e4-22173c23b1d6",
   "metadata": {
    "tags": []
   },
   "source": [
    "!curl -X POST \">enter the prediction URL here<\" -H \"Content-Type: application/json\" -d '[{\"rest_request_id\": \"prediction_test-1\", \"pickup_datetime\": \"2022-11-12 07:15:00\", \"pickup_zipcode\": \"10010\", \"dropoff_zipcode\": \"10011\", \"passenger_count\": 3}]'"
   ]
  },
  {
   "cell_type": "markdown",
   "id": "1e13a5f0-0e68-4329-a432-384d62ac18dc",
   "metadata": {},
   "source": [
    "### Stop the deployed model\n",
    "\n",
    "Use the `stop prediction` command to stop ML model serving when you have completed the prediction requests. This step is optional, you may choose to leave the model deployed."
   ]
  },
  {
   "cell_type": "code",
   "execution_count": null,
   "id": "252a5bfd-28ee-4c22-a5e7-5c641f2a801d",
   "metadata": {},
   "outputs": [],
   "source": [
    "stop prediction trip_ml_deploy_1"
   ]
  },
  {
   "cell_type": "code",
   "execution_count": null,
   "id": "c70a22cd-d5d2-40b1-81df-819d68e16448",
   "metadata": {},
   "outputs": [],
   "source": []
  }
 ],
 "metadata": {
  "kernelspec": {
   "display_name": "Aizen",
   "language": "python",
   "name": "Aizen (kernel)"
  },
  "language_info": {
   "file_extension": ".py",
   "mimetype": "text/x-python",
   "name": "python"
  }
 },
 "nbformat": 4,
 "nbformat_minor": 5
}
